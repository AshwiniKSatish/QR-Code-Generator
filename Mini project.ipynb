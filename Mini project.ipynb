{
 "cells": [
  {
   "cell_type": "code",
   "execution_count": 6,
   "id": "fee804f7",
   "metadata": {},
   "outputs": [
    {
     "ename": "ModuleNotFoundError",
     "evalue": "No module named 'qrcode'",
     "output_type": "error",
     "traceback": [
      "\u001b[1;31m---------------------------------------------------------------------------\u001b[0m",
      "\u001b[1;31mModuleNotFoundError\u001b[0m                       Traceback (most recent call last)",
      "\u001b[1;32m~\\AppData\\Local\\Temp\\ipykernel_9564\\3294235814.py\u001b[0m in \u001b[0;36m<module>\u001b[1;34m\u001b[0m\n\u001b[0;32m      1\u001b[0m \u001b[1;32mimport\u001b[0m \u001b[0mtkinter\u001b[0m \u001b[1;32mas\u001b[0m \u001b[0mtk\u001b[0m\u001b[1;33m\u001b[0m\u001b[1;33m\u001b[0m\u001b[0m\n\u001b[0;32m      2\u001b[0m \u001b[1;32mfrom\u001b[0m \u001b[0mtkinter\u001b[0m \u001b[1;32mimport\u001b[0m \u001b[0mttk\u001b[0m\u001b[1;33m\u001b[0m\u001b[1;33m\u001b[0m\u001b[0m\n\u001b[1;32m----> 3\u001b[1;33m \u001b[1;32mimport\u001b[0m \u001b[0mqrcode\u001b[0m\u001b[1;33m\u001b[0m\u001b[1;33m\u001b[0m\u001b[0m\n\u001b[0m\u001b[0;32m      4\u001b[0m \u001b[1;32mfrom\u001b[0m \u001b[0mPIL\u001b[0m \u001b[1;32mimport\u001b[0m \u001b[0mImage\u001b[0m\u001b[1;33m,\u001b[0m \u001b[0mImageTk\u001b[0m\u001b[1;33m\u001b[0m\u001b[1;33m\u001b[0m\u001b[0m\n\u001b[0;32m      5\u001b[0m \u001b[1;33m\u001b[0m\u001b[0m\n",
      "\u001b[1;31mModuleNotFoundError\u001b[0m: No module named 'qrcode'"
     ]
    }
   ],
   "source": [
    "import tkinter as tk\n",
    "from tkinter import ttk\n",
    "import qrcode\n",
    "from PIL import Image, ImageTk\n",
    "\n",
    "def qr_code_generator():\n",
    "    val = value.get()\n",
    "    color_type = optiontype.get()\n",
    "    if color_type == \"Black on white\":\n",
    "        fill = \"black\"\n",
    "        back = \"white\"\n",
    "        code(val, fill, back)\n",
    "    elif color_type == \"Red on white\":\n",
    "        fill = \"red\"\n",
    "        back = \"white\"\n",
    "        code(val, fill, back)\n",
    "    elif color_type == \"Pink on white\":\n",
    "        fill = \"pink\"\n",
    "        back = \"white\"\n",
    "        code(val, fill, back)\n",
    "    elif color_type == \"Grey on white\":\n",
    "        fill = \"grey\"\n",
    "        back = \"white\"\n",
    "        code(val, fill, back)\n",
    "    elif color_type == \"Blue on white\":\n",
    "        fill = \"blue\"\n",
    "        back = \"white\"\n",
    "        code(val, fill, back)\n",
    "    elif color_type == \"Purple on white\":\n",
    "        fill = \"purple\"\n",
    "        back = \"white\"\n",
    "        code(val, fill, back)\n",
    "\n",
    "def code(url, fill, back):\n",
    "    filename = \"qr_code.png\"\n",
    "    qr = qrcode.QRCode(\n",
    "        version=1,\n",
    "        error_correction=qrcode.constants.ERROR_CORRECT_H,\n",
    "        box_size=10,\n",
    "        border=4,\n",
    "    )\n",
    "    qr.add_data(url)\n",
    "    qr.make(fit=True)\n",
    "    img = qr.make_image(fill_color=fill, back_color=back)\n",
    "    img.save(filename)\n",
    "    result_label.config(text=f\"QR Code generated and saved as {filename}\")\n",
    "    \n",
    "    img_tk = ImageTk.PhotoImage(Image.open(filename))\n",
    "    qr_code_label.img = img_tk  \n",
    "    qr_code_label.config(image=img_tk)\n",
    "\n",
    "root = tk.Tk()\n",
    "root.title(\"QR CODE GENERATOR\")\n",
    "\n",
    "label_type = ttk.Label(root, text=\"Choose color:\")\n",
    "label_type.grid(row=0, column=0)\n",
    "\n",
    "types = [\"Black on white\", \"Red on white\", \"Pink on white\", \"Grey on white\", \"Blue on white\", \"Purple on white\"]\n",
    "optiontype = ttk.Combobox(root, values=types)\n",
    "optiontype.grid(row=0, column=1)\n",
    "\n",
    "label_value = ttk.Label(root, text=\"Enter URL:\")\n",
    "label_value.grid(row=2, column=0, padx=10, pady=10)\n",
    "\n",
    "value = ttk.Entry(root)\n",
    "value.grid(row=2, column=1, padx=10, pady=10)\n",
    "\n",
    "generate_button = ttk.Button(root, text=\"Generate\", command=qr_code_generator)\n",
    "generate_button.grid(row=3, padx=10, pady=10)\n",
    "\n",
    "result_label = ttk.Label(root, text=\"\")\n",
    "result_label.grid(row=4, padx=10, pady=10)\n",
    "\n",
    "qr_code_label = ttk.Label(root)\n",
    "qr_code_label.grid(row=5, column=0, columnspan=2, pady=10)\n",
    "\n",
    "root.mainloop()"
   ]
  },
  {
   "cell_type": "code",
   "execution_count": null,
   "id": "fec84783",
   "metadata": {},
   "outputs": [],
   "source": []
  },
  {
   "cell_type": "code",
   "execution_count": null,
   "id": "3c355248",
   "metadata": {},
   "outputs": [],
   "source": []
  }
 ],
 "metadata": {
  "kernelspec": {
   "display_name": "Python 3 (ipykernel)",
   "language": "python",
   "name": "python3"
  },
  "language_info": {
   "codemirror_mode": {
    "name": "ipython",
    "version": 3
   },
   "file_extension": ".py",
   "mimetype": "text/x-python",
   "name": "python",
   "nbconvert_exporter": "python",
   "pygments_lexer": "ipython3",
   "version": "3.9.13"
  }
 },
 "nbformat": 4,
 "nbformat_minor": 5
}
